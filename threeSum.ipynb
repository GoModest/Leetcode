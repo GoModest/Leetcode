{
 "cells": [
  {
   "cell_type": "code",
   "execution_count": 43,
   "metadata": {},
   "outputs": [
    {
     "data": {
      "text/plain": [
       "[[-1, 0, 1], [0, 0, 0]]"
      ]
     },
     "execution_count": 43,
     "metadata": {},
     "output_type": "execute_result"
    }
   ],
   "source": [
    "\"\"\"\n",
    "简单而低效的方法是使用三重嵌套循环进行遍历，提交这种方法会得到“超出时间限制”的提示\n",
    "下面的这种算法复杂度就低一些。\n",
    "本思路来自网络。\n",
    "\"\"\"\n",
    "\n",
    "def threeSum2(nums):\n",
    "    \"\"\"\n",
    "    获取一个列表中，三个元素之和为0的可能，且不重复。\n",
    "    思路是把列表排序，然后遍历列表获取第一个值，然后用left和right指针控制后两个值\n",
    "    \"\"\"\n",
    "    # 这里有一个奇怪的地方，在我的提交中，更改变量定义的顺序也会“超出时间限制”\n",
    "    nums.sort()\n",
    "    n = len(nums)\n",
    "    result = []\n",
    "    \n",
    "    for i in range(n):\n",
    "        left = i + 1\n",
    "        right = n - 1\n",
    "        \n",
    "        # 控制第一个值不重复\n",
    "        if i != 0 and nums[i] == nums[i-1]:\n",
    "            continue\n",
    "        # 控制left和right指针移动\n",
    "        while left < right:\n",
    "            total = nums[i] + nums[left] + nums[right]\n",
    "            if total == 0:\n",
    "                temp_list = [nums[i], nums[left], nums[right]]\n",
    "                result.append(temp_list)\n",
    "                left += 1\n",
    "                right -= 1\n",
    "                # 控制后两个值不重复\n",
    "                while nums[left] == nums[left -1 ] and left < right:\n",
    "                    left += 1\n",
    "                while nums[right] == nums[right + 1] and left < right:\n",
    "                    right -= 1\n",
    "            elif total > 0:\n",
    "                right -= 1\n",
    "            else:\n",
    "                left += 1\n",
    "                \n",
    "    return result\n"
   ]
  },
  {
   "cell_type": "code",
   "execution_count": null,
   "metadata": {},
   "outputs": [],
   "source": []
  },
  {
   "cell_type": "code",
   "execution_count": null,
   "metadata": {},
   "outputs": [],
   "source": []
  },
  {
   "cell_type": "code",
   "execution_count": null,
   "metadata": {},
   "outputs": [],
   "source": []
  }
 ],
 "metadata": {
  "kernelspec": {
   "display_name": "Python 3",
   "language": "python",
   "name": "python3"
  },
  "language_info": {
   "codemirror_mode": {
    "name": "ipython",
    "version": 3
   },
   "file_extension": ".py",
   "mimetype": "text/x-python",
   "name": "python",
   "nbconvert_exporter": "python",
   "pygments_lexer": "ipython3",
   "version": "3.6.5"
  }
 },
 "nbformat": 4,
 "nbformat_minor": 2
}
