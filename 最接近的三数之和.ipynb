{
 "cells": [
  {
   "cell_type": "code",
   "execution_count": 24,
   "metadata": {},
   "outputs": [
    {
     "data": {
      "text/plain": [
       "13"
      ]
     },
     "execution_count": 24,
     "metadata": {},
     "output_type": "execute_result"
    }
   ],
   "source": [
    "\"\"\"\n",
    "要求：\n",
    "给定一个包括 n 个整数的数组 nums 和 一个目标值 target。找出 nums 中的三个整数，使得它们的和与 target 最接近。返回这三个数的和。假定每组输入只存在唯一答案。\n",
    "\n",
    "例如，给定数组 nums = [-1，2，1，-4], 和 target = 1.\n",
    "\n",
    "与 target 最接近的三个数的和为 2. (-1 + 2 + 1 = 2).\n",
    "\"\"\"\n",
    "\n",
    "def threeSumClosest(nums,target):\n",
    "    \"\"\"\n",
    "    思路和 三数之和 相同\n",
    "    \"\"\"\n",
    "    nums.sort()\n",
    "    n = len(nums)\n",
    "    closestValue = sum(nums[:3])\n",
    "    result = abs(target - closestValue)\n",
    "    \n",
    "    for i in range(n):\n",
    "        left = i + 1\n",
    "        right = n - 1\n",
    "        \n",
    "        # 控制left和right指针移动\n",
    "        while left < right:\n",
    "            total = nums[i] + nums[left] + nums[right]\n",
    "            temp = abs(total-target)\n",
    "            if temp < result:\n",
    "                result = temp\n",
    "                closestValue = total\n",
    "            if total > target:\n",
    "                right -= 1\n",
    "            elif total < target:\n",
    "                left += 1\n",
    "            else:\n",
    "                return target\n",
    "            \n",
    "    \n",
    "    return closestValue\n"
   ]
  },
  {
   "cell_type": "code",
   "execution_count": null,
   "metadata": {},
   "outputs": [],
   "source": []
  }
 ],
 "metadata": {
  "kernelspec": {
   "display_name": "Python 3",
   "language": "python",
   "name": "python3"
  },
  "language_info": {
   "codemirror_mode": {
    "name": "ipython",
    "version": 3
   },
   "file_extension": ".py",
   "mimetype": "text/x-python",
   "name": "python",
   "nbconvert_exporter": "python",
   "pygments_lexer": "ipython3",
   "version": "3.6.5"
  }
 },
 "nbformat": 4,
 "nbformat_minor": 2
}
